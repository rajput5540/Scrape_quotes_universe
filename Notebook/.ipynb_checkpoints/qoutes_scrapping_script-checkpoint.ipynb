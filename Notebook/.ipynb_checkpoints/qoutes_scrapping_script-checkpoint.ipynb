{
 "cells": [
  {
   "cell_type": "code",
   "execution_count": 1,
   "id": "40fa4672-35c9-442d-be10-3f46d93b9a3e",
   "metadata": {},
   "outputs": [],
   "source": [
    "import requests\n",
    "from bs4 import BeautifulSoup\n",
    "from tqdm import tqdm\n",
    "import pandas as pd\n",
    "import re"
   ]
  },
  {
   "cell_type": "code",
   "execution_count": 8,
   "id": "547a0a46-2278-44fc-9d26-3c104f9a815a",
   "metadata": {},
   "outputs": [],
   "source": [
    "quote = []\n",
    "author = []\n",
    "tag_name = []"
   ]
  },
  {
   "cell_type": "code",
   "execution_count": 9,
   "id": "8862e6ae-2d85-4613-b529-09a37a48f9c4",
   "metadata": {},
   "outputs": [
    {
     "name": "stdout",
     "output_type": "stream",
     "text": [
      "working on page 1\n",
      "10 Quotes has extracted\n",
      "10 Authors has extracted\n",
      "10 Tags has extracted\n",
      "working on page 2\n",
      "20 Quotes has extracted\n",
      "20 Authors has extracted\n",
      "20 Tags has extracted\n",
      "working on page 3\n",
      "30 Quotes has extracted\n",
      "30 Authors has extracted\n",
      "30 Tags has extracted\n",
      "working on page 4\n",
      "40 Quotes has extracted\n",
      "40 Authors has extracted\n",
      "40 Tags has extracted\n",
      "working on page 5\n",
      "50 Quotes has extracted\n",
      "50 Authors has extracted\n",
      "50 Tags has extracted\n",
      "working on page 6\n",
      "60 Quotes has extracted\n",
      "60 Authors has extracted\n",
      "60 Tags has extracted\n",
      "working on page 7\n",
      "70 Quotes has extracted\n",
      "70 Authors has extracted\n",
      "70 Tags has extracted\n",
      "working on page 8\n",
      "80 Quotes has extracted\n",
      "80 Authors has extracted\n",
      "80 Tags has extracted\n",
      "working on page 9\n",
      "90 Quotes has extracted\n",
      "90 Authors has extracted\n",
      "90 Tags has extracted\n",
      "working on page 10\n",
      "100 Quotes has extracted\n",
      "100 Authors has extracted\n",
      "100 Tags has extracted\n",
      "No more pages\n",
      "Webiste has scrapped Successfully\n"
     ]
    }
   ],
   "source": [
    "url = \"https://quotes.toscrape.com/page/{}/\"\n",
    "page = 1\n",
    "while True:\n",
    "    print(f\"working on page {page}\")\n",
    "    response = requests.get(url.format(page))\n",
    "    soup = BeautifulSoup(response.text, \"html.parser\")\n",
    "    container = soup.find_all('div', class_ = \"quote\")\n",
    "\n",
    "    for i in container:\n",
    "        #extract the Quotes\n",
    "        try:\n",
    "            j = i.find('span', class_ = 'text').text\n",
    "            quote.append(j)\n",
    "        except:\n",
    "            quote.append(None)\n",
    "\n",
    "        #extract the Authors\n",
    "        try:\n",
    "            j = i.find('small', class_=\"author\").text\n",
    "            author.append(j)\n",
    "        except:\n",
    "            author.append(None)\n",
    "            \n",
    "\n",
    "        #extract the Tags\n",
    "        try:\n",
    "            j = i.find('meta', class_ = 'keywords')[\"content\"]\n",
    "            tag_name.append(j)\n",
    "        except:\n",
    "            tag_name.append(None)\n",
    "    print(f'{len(quote)} Quotes has extracted\\n{len(author)} Authors has extracted\\n{len(tag_name)} Tags has extracted')\n",
    "\n",
    "    #check the next button is available or not\n",
    "    next_button = soup.find('li' , class_ = 'next')\n",
    "    if next_button:\n",
    "        page += 1\n",
    "        \n",
    "    else:\n",
    "        print(\"No more pages\")\n",
    "        break\n",
    "    \n",
    "\n",
    "print(\"Webiste has scrapped Successfully\")"
   ]
  },
  {
   "cell_type": "code",
   "execution_count": 5,
   "id": "3b8761af-6c76-4b75-b647-2cd71902d846",
   "metadata": {},
   "outputs": [
    {
     "data": {
      "text/plain": [
       "100"
      ]
     },
     "execution_count": 5,
     "metadata": {},
     "output_type": "execute_result"
    }
   ],
   "source": [
    "len(author)"
   ]
  },
  {
   "cell_type": "code",
   "execution_count": 4,
   "id": "72be42a2-8544-4914-9754-b4b073f162f0",
   "metadata": {},
   "outputs": [
    {
     "data": {
      "text/html": [
       "<div>\n",
       "<style scoped>\n",
       "    .dataframe tbody tr th:only-of-type {\n",
       "        vertical-align: middle;\n",
       "    }\n",
       "\n",
       "    .dataframe tbody tr th {\n",
       "        vertical-align: top;\n",
       "    }\n",
       "\n",
       "    .dataframe thead th {\n",
       "        text-align: right;\n",
       "    }\n",
       "</style>\n",
       "<table border=\"1\" class=\"dataframe\">\n",
       "  <thead>\n",
       "    <tr style=\"text-align: right;\">\n",
       "      <th></th>\n",
       "      <th>quote</th>\n",
       "      <th>author</th>\n",
       "      <th>tag_name</th>\n",
       "    </tr>\n",
       "  </thead>\n",
       "  <tbody>\n",
       "    <tr>\n",
       "      <th>0</th>\n",
       "      <td>“The world as we have created it is a process ...</td>\n",
       "      <td>Albert Einstein</td>\n",
       "      <td>change,deep-thoughts,thinking,world</td>\n",
       "    </tr>\n",
       "    <tr>\n",
       "      <th>1</th>\n",
       "      <td>“It is our choices, Harry, that show what we t...</td>\n",
       "      <td>J.K. Rowling</td>\n",
       "      <td>abilities,choices</td>\n",
       "    </tr>\n",
       "    <tr>\n",
       "      <th>2</th>\n",
       "      <td>“There are only two ways to live your life. On...</td>\n",
       "      <td>Albert Einstein</td>\n",
       "      <td>inspirational,life,live,miracle,miracles</td>\n",
       "    </tr>\n",
       "    <tr>\n",
       "      <th>3</th>\n",
       "      <td>“The person, be it gentleman or lady, who has ...</td>\n",
       "      <td>Jane Austen</td>\n",
       "      <td>aliteracy,books,classic,humor</td>\n",
       "    </tr>\n",
       "    <tr>\n",
       "      <th>4</th>\n",
       "      <td>“Imperfection is beauty, madness is genius and...</td>\n",
       "      <td>Marilyn Monroe</td>\n",
       "      <td>be-yourself,inspirational</td>\n",
       "    </tr>\n",
       "  </tbody>\n",
       "</table>\n",
       "</div>"
      ],
      "text/plain": [
       "                                               quote           author  \\\n",
       "0  “The world as we have created it is a process ...  Albert Einstein   \n",
       "1  “It is our choices, Harry, that show what we t...     J.K. Rowling   \n",
       "2  “There are only two ways to live your life. On...  Albert Einstein   \n",
       "3  “The person, be it gentleman or lady, who has ...      Jane Austen   \n",
       "4  “Imperfection is beauty, madness is genius and...   Marilyn Monroe   \n",
       "\n",
       "                                   tag_name  \n",
       "0       change,deep-thoughts,thinking,world  \n",
       "1                         abilities,choices  \n",
       "2  inspirational,life,live,miracle,miracles  \n",
       "3             aliteracy,books,classic,humor  \n",
       "4                 be-yourself,inspirational  "
      ]
     },
     "execution_count": 4,
     "metadata": {},
     "output_type": "execute_result"
    }
   ],
   "source": [
    "data = {\n",
    "    'quote' : quote,\n",
    "    'author' : author,\n",
    "    'tag_name' : tag_name\n",
    "    \n",
    "}\n",
    "\n",
    "df = pd.DataFrame(data)\n",
    "df.head()"
   ]
  },
  {
   "cell_type": "code",
   "execution_count": 11,
   "id": "f2c94c8c-f35e-4325-8cab-c5f2e93ed2bb",
   "metadata": {},
   "outputs": [],
   "source": [
    "df.to_csv(\"Quotes.csv\", index= False)"
   ]
  }
 ],
 "metadata": {
  "kernelspec": {
   "display_name": "Python 3 (ipykernel)",
   "language": "python",
   "name": "python3"
  },
  "language_info": {
   "codemirror_mode": {
    "name": "ipython",
    "version": 3
   },
   "file_extension": ".py",
   "mimetype": "text/x-python",
   "name": "python",
   "nbconvert_exporter": "python",
   "pygments_lexer": "ipython3",
   "version": "3.13.1"
  }
 },
 "nbformat": 4,
 "nbformat_minor": 5
}
